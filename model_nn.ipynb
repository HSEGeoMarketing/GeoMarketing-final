{
 "nbformat": 4,
 "nbformat_minor": 0,
 "metadata": {
  "colab": {
   "provenance": []
  },
  "kernelspec": {
   "name": "python3",
   "language": "python",
   "display_name": "Python 3 (ipykernel)"
  },
  "language_info": {
   "name": "python"
  }
 },
 "cells": [
  {
   "cell_type": "code",
   "source": [
    "import pandas as pd\n",
    "from IPython.display import clear_output\n",
    "\n",
    "clear_output()"
   ],
   "metadata": {
    "id": "dH139uVhnqSu"
   },
   "execution_count": 149,
   "outputs": []
  },
  {
   "cell_type": "code",
   "execution_count": 150,
   "outputs": [
    {
     "name": "stderr",
     "output_type": "stream",
     "text": [
      "<frozen importlib._bootstrap>:914: ImportWarning: _SixMetaPathImporter.find_spec() not found; falling back to find_module()\n"
     ]
    }
   ],
   "source": [
    "# population get\n",
    "\n",
    "Population_file_path = 'Distance_for_nn.xlsx'\n",
    "population = pd.read_excel(Population_file_path, sheet_name='Population_quart')\n",
    "population = list(population.Population)\n",
    "\n",
    "number_of_quarts = len(population)"
   ],
   "metadata": {
    "collapsed": false,
    "ExecuteTime": {
     "end_time": "2023-06-10T14:41:33.510358400Z",
     "start_time": "2023-06-10T14:41:33.456197400Z"
    }
   }
  },
  {
   "cell_type": "code",
   "execution_count": 151,
   "outputs": [
    {
     "name": "stderr",
     "output_type": "stream",
     "text": [
      "<frozen importlib._bootstrap>:914: ImportWarning: _SixMetaPathImporter.find_spec() not found; falling back to find_module()\n",
      "<frozen importlib._bootstrap>:914: ImportWarning: _SixMetaPathImporter.find_spec() not found; falling back to find_module()\n"
     ]
    },
    {
     "data": {
      "text/plain": "                                        Full_Address         Type  Square  \\\n0        1 Новосмоленская набережная Санкт-Петербург      магазин   126.0   \n1          100 Средний проспект В.О. Санкт-Петербург      магазин   131.0   \n2                    11 ул. Нахимова Санкт-Петербург  супермаркет   295.0   \n3  12В 17-я линия Васильевского острова Санкт-Пет...  супермаркет   253.7   \n4                   13/46 16-я Линия Санкт-Петербург  супермаркет   251.0   \n\n  Categorical_Brand  Traffic  Time Building_Type   Frequency   Id        lat  \\\n0            Другие     4586    51     жилой дом   89.921569  118  30.230887   \n1            Другие     4339    31     жилой дом  139.967742  152  30.241092   \n2         Пятерочка    26854    39     жилой дом  688.564103  138  30.222111   \n3         Пятерочка    22610    31     жилой дом  729.354839  120  30.270979   \n4          ВкусВилл    18190    32     жилой дом  568.437500  122  30.271339   \n\n         lon  \n0  59.949145  \n1  59.931648  \n2  59.941042  \n3  59.934799  \n4  59.935196  ",
      "text/html": "<div>\n<style scoped>\n    .dataframe tbody tr th:only-of-type {\n        vertical-align: middle;\n    }\n\n    .dataframe tbody tr th {\n        vertical-align: top;\n    }\n\n    .dataframe thead th {\n        text-align: right;\n    }\n</style>\n<table border=\"1\" class=\"dataframe\">\n  <thead>\n    <tr style=\"text-align: right;\">\n      <th></th>\n      <th>Full_Address</th>\n      <th>Type</th>\n      <th>Square</th>\n      <th>Categorical_Brand</th>\n      <th>Traffic</th>\n      <th>Time</th>\n      <th>Building_Type</th>\n      <th>Frequency</th>\n      <th>Id</th>\n      <th>lat</th>\n      <th>lon</th>\n    </tr>\n  </thead>\n  <tbody>\n    <tr>\n      <th>0</th>\n      <td>1 Новосмоленская набережная Санкт-Петербург</td>\n      <td>магазин</td>\n      <td>126.0</td>\n      <td>Другие</td>\n      <td>4586</td>\n      <td>51</td>\n      <td>жилой дом</td>\n      <td>89.921569</td>\n      <td>118</td>\n      <td>30.230887</td>\n      <td>59.949145</td>\n    </tr>\n    <tr>\n      <th>1</th>\n      <td>100 Средний проспект В.О. Санкт-Петербург</td>\n      <td>магазин</td>\n      <td>131.0</td>\n      <td>Другие</td>\n      <td>4339</td>\n      <td>31</td>\n      <td>жилой дом</td>\n      <td>139.967742</td>\n      <td>152</td>\n      <td>30.241092</td>\n      <td>59.931648</td>\n    </tr>\n    <tr>\n      <th>2</th>\n      <td>11 ул. Нахимова Санкт-Петербург</td>\n      <td>супермаркет</td>\n      <td>295.0</td>\n      <td>Пятерочка</td>\n      <td>26854</td>\n      <td>39</td>\n      <td>жилой дом</td>\n      <td>688.564103</td>\n      <td>138</td>\n      <td>30.222111</td>\n      <td>59.941042</td>\n    </tr>\n    <tr>\n      <th>3</th>\n      <td>12В 17-я линия Васильевского острова Санкт-Пет...</td>\n      <td>супермаркет</td>\n      <td>253.7</td>\n      <td>Пятерочка</td>\n      <td>22610</td>\n      <td>31</td>\n      <td>жилой дом</td>\n      <td>729.354839</td>\n      <td>120</td>\n      <td>30.270979</td>\n      <td>59.934799</td>\n    </tr>\n    <tr>\n      <th>4</th>\n      <td>13/46 16-я Линия Санкт-Петербург</td>\n      <td>супермаркет</td>\n      <td>251.0</td>\n      <td>ВкусВилл</td>\n      <td>18190</td>\n      <td>32</td>\n      <td>жилой дом</td>\n      <td>568.437500</td>\n      <td>122</td>\n      <td>30.271339</td>\n      <td>59.935196</td>\n    </tr>\n  </tbody>\n</table>\n</div>"
     },
     "execution_count": 151,
     "metadata": {},
     "output_type": "execute_result"
    }
   ],
   "source": [
    "# market data get\n",
    "\n",
    "Markets_file_path = 'Market_data_for_nn.xlsx'  # 21 is best for MAE - 25000epochs, 41 for MAPE - 8000epochs\n",
    "market_data = pd.read_excel(Markets_file_path, index_col='Full_Address')\n",
    "\n",
    "Coord_file_path = 'Coord_for_nn.xlsx'\n",
    "coord = pd.read_excel(Coord_file_path, index_col='Full_Address')\n",
    "\n",
    "market_data = market_data.join(coord)\n",
    "\n",
    "market_data = market_data.reset_index()\n",
    "market_data.head()"
   ],
   "metadata": {
    "collapsed": false,
    "ExecuteTime": {
     "end_time": "2023-06-10T14:41:33.572886800Z",
     "start_time": "2023-06-10T14:41:33.485965400Z"
    }
   }
  },
  {
   "cell_type": "code",
   "execution_count": 152,
   "outputs": [],
   "source": [
    "# get Huff for training dataset\n",
    "\n",
    "import huff_and_map\n",
    "\n",
    "huff_pred = []\n",
    "\n",
    "for index,row in market_data.iterrows():\n",
    "    huff = huff_and_map.calculate_huff(row['lon'], row['lat'], row['Square'])\n",
    "    huff_pred.append(huff)"
   ],
   "metadata": {
    "collapsed": false,
    "ExecuteTime": {
     "end_time": "2023-06-10T14:42:02.890446500Z",
     "start_time": "2023-06-10T14:41:33.575866600Z"
    }
   }
  },
  {
   "cell_type": "code",
   "execution_count": 153,
   "outputs": [
    {
     "data": {
      "text/plain": "         Huff                                       Full_Address         Type  \\\n0  356.022102        1 Новосмоленская набережная Санкт-Петербург      магазин   \n1  292.059226          100 Средний проспект В.О. Санкт-Петербург      магазин   \n2  765.360307                    11 ул. Нахимова Санкт-Петербург  супермаркет   \n3  251.443887  12В 17-я линия Васильевского острова Санкт-Пет...  супермаркет   \n4  254.425867                   13/46 16-я Линия Санкт-Петербург  супермаркет   \n\n   Square Categorical_Brand  Traffic  Time Building_Type   Frequency   Id  \\\n0   126.0            Другие     4586    51     жилой дом   89.921569  118   \n1   131.0            Другие     4339    31     жилой дом  139.967742  152   \n2   295.0         Пятерочка    26854    39     жилой дом  688.564103  138   \n3   253.7         Пятерочка    22610    31     жилой дом  729.354839  120   \n4   251.0          ВкусВилл    18190    32     жилой дом  568.437500  122   \n\n         lat        lon  \n0  30.230887  59.949145  \n1  30.241092  59.931648  \n2  30.222111  59.941042  \n3  30.270979  59.934799  \n4  30.271339  59.935196  ",
      "text/html": "<div>\n<style scoped>\n    .dataframe tbody tr th:only-of-type {\n        vertical-align: middle;\n    }\n\n    .dataframe tbody tr th {\n        vertical-align: top;\n    }\n\n    .dataframe thead th {\n        text-align: right;\n    }\n</style>\n<table border=\"1\" class=\"dataframe\">\n  <thead>\n    <tr style=\"text-align: right;\">\n      <th></th>\n      <th>Huff</th>\n      <th>Full_Address</th>\n      <th>Type</th>\n      <th>Square</th>\n      <th>Categorical_Brand</th>\n      <th>Traffic</th>\n      <th>Time</th>\n      <th>Building_Type</th>\n      <th>Frequency</th>\n      <th>Id</th>\n      <th>lat</th>\n      <th>lon</th>\n    </tr>\n  </thead>\n  <tbody>\n    <tr>\n      <th>0</th>\n      <td>356.022102</td>\n      <td>1 Новосмоленская набережная Санкт-Петербург</td>\n      <td>магазин</td>\n      <td>126.0</td>\n      <td>Другие</td>\n      <td>4586</td>\n      <td>51</td>\n      <td>жилой дом</td>\n      <td>89.921569</td>\n      <td>118</td>\n      <td>30.230887</td>\n      <td>59.949145</td>\n    </tr>\n    <tr>\n      <th>1</th>\n      <td>292.059226</td>\n      <td>100 Средний проспект В.О. Санкт-Петербург</td>\n      <td>магазин</td>\n      <td>131.0</td>\n      <td>Другие</td>\n      <td>4339</td>\n      <td>31</td>\n      <td>жилой дом</td>\n      <td>139.967742</td>\n      <td>152</td>\n      <td>30.241092</td>\n      <td>59.931648</td>\n    </tr>\n    <tr>\n      <th>2</th>\n      <td>765.360307</td>\n      <td>11 ул. Нахимова Санкт-Петербург</td>\n      <td>супермаркет</td>\n      <td>295.0</td>\n      <td>Пятерочка</td>\n      <td>26854</td>\n      <td>39</td>\n      <td>жилой дом</td>\n      <td>688.564103</td>\n      <td>138</td>\n      <td>30.222111</td>\n      <td>59.941042</td>\n    </tr>\n    <tr>\n      <th>3</th>\n      <td>251.443887</td>\n      <td>12В 17-я линия Васильевского острова Санкт-Пет...</td>\n      <td>супермаркет</td>\n      <td>253.7</td>\n      <td>Пятерочка</td>\n      <td>22610</td>\n      <td>31</td>\n      <td>жилой дом</td>\n      <td>729.354839</td>\n      <td>120</td>\n      <td>30.270979</td>\n      <td>59.934799</td>\n    </tr>\n    <tr>\n      <th>4</th>\n      <td>254.425867</td>\n      <td>13/46 16-я Линия Санкт-Петербург</td>\n      <td>супермаркет</td>\n      <td>251.0</td>\n      <td>ВкусВилл</td>\n      <td>18190</td>\n      <td>32</td>\n      <td>жилой дом</td>\n      <td>568.437500</td>\n      <td>122</td>\n      <td>30.271339</td>\n      <td>59.935196</td>\n    </tr>\n  </tbody>\n</table>\n</div>"
     },
     "execution_count": 153,
     "metadata": {},
     "output_type": "execute_result"
    }
   ],
   "source": [
    "# Huff insertion in DataFrame\n",
    "\n",
    "market_data.insert(0, 'Huff', huff_pred)\n",
    "market_data.head()"
   ],
   "metadata": {
    "collapsed": false,
    "ExecuteTime": {
     "end_time": "2023-06-10T14:42:02.930043400Z",
     "start_time": "2023-06-10T14:42:02.892194600Z"
    }
   }
  },
  {
   "cell_type": "code",
   "execution_count": 154,
   "outputs": [],
   "source": [
    "# Features and Target\n",
    "\n",
    "X = market_data\n",
    "y = market_data['Frequency']\n",
    "X = X.drop(['Frequency'], axis=1)\n",
    "\n",
    "X = X.drop(['Full_Address'], axis=1)\n",
    "#X = X.drop(['Square'], axis=1)\n",
    "#X = X.drop(['Huff'], axis=1)\n",
    "X = X.drop(['Traffic'], axis=1)\n",
    "X = X.drop(['Time'], axis=1)\n",
    "X = X.drop(['Id'], axis=1)\n",
    "X = X.drop(['lat'], axis=1)\n",
    "X = X.drop(['lon'], axis=1)\n",
    "#X = X.drop(['Type'], axis=1)\n",
    "#X = X.drop(['Categorical_Brand'], axis=1)\n",
    "#X = X.drop(['Building_Type'], axis=1)"
   ],
   "metadata": {
    "collapsed": false,
    "ExecuteTime": {
     "end_time": "2023-06-10T14:42:02.940038300Z",
     "start_time": "2023-06-10T14:42:02.930043400Z"
    }
   }
  },
  {
   "cell_type": "code",
   "execution_count": 155,
   "outputs": [],
   "source": [
    "\n",
    "\n",
    "\n",
    "\n",
    "\n",
    "\n",
    "# MODEL PART\n",
    "\n",
    "\n",
    "\n",
    "\n",
    "\n",
    "\n"
   ],
   "metadata": {
    "collapsed": false,
    "ExecuteTime": {
     "end_time": "2023-06-10T14:42:02.953033200Z",
     "start_time": "2023-06-10T14:42:02.939045600Z"
    }
   }
  },
  {
   "cell_type": "code",
   "execution_count": 156,
   "outputs": [
    {
     "data": {
      "text/plain": "         Huff         Type  Square Categorical_Brand Building_Type\n0  356.022102      магазин   126.0            Другие     жилой дом\n1  292.059226      магазин   131.0            Другие     жилой дом\n2  765.360307  супермаркет   295.0         Пятерочка     жилой дом\n3  251.443887  супермаркет   253.7         Пятерочка     жилой дом\n4  254.425867  супермаркет   251.0          ВкусВилл     жилой дом",
      "text/html": "<div>\n<style scoped>\n    .dataframe tbody tr th:only-of-type {\n        vertical-align: middle;\n    }\n\n    .dataframe tbody tr th {\n        vertical-align: top;\n    }\n\n    .dataframe thead th {\n        text-align: right;\n    }\n</style>\n<table border=\"1\" class=\"dataframe\">\n  <thead>\n    <tr style=\"text-align: right;\">\n      <th></th>\n      <th>Huff</th>\n      <th>Type</th>\n      <th>Square</th>\n      <th>Categorical_Brand</th>\n      <th>Building_Type</th>\n    </tr>\n  </thead>\n  <tbody>\n    <tr>\n      <th>0</th>\n      <td>356.022102</td>\n      <td>магазин</td>\n      <td>126.0</td>\n      <td>Другие</td>\n      <td>жилой дом</td>\n    </tr>\n    <tr>\n      <th>1</th>\n      <td>292.059226</td>\n      <td>магазин</td>\n      <td>131.0</td>\n      <td>Другие</td>\n      <td>жилой дом</td>\n    </tr>\n    <tr>\n      <th>2</th>\n      <td>765.360307</td>\n      <td>супермаркет</td>\n      <td>295.0</td>\n      <td>Пятерочка</td>\n      <td>жилой дом</td>\n    </tr>\n    <tr>\n      <th>3</th>\n      <td>251.443887</td>\n      <td>супермаркет</td>\n      <td>253.7</td>\n      <td>Пятерочка</td>\n      <td>жилой дом</td>\n    </tr>\n    <tr>\n      <th>4</th>\n      <td>254.425867</td>\n      <td>супермаркет</td>\n      <td>251.0</td>\n      <td>ВкусВилл</td>\n      <td>жилой дом</td>\n    </tr>\n  </tbody>\n</table>\n</div>"
     },
     "execution_count": 156,
     "metadata": {},
     "output_type": "execute_result"
    }
   ],
   "source": [
    "# X - pandas dataframe with features, y - pandas dataframe with targets\n",
    "\n",
    "categorical_cols = [col for col in X.columns if X[col].dtype == 'object']\n",
    "numerical_cols = [cname for cname in X.columns if X[cname].dtype in ['int64', 'float64']]\n",
    "\n",
    "X.head()"
   ],
   "metadata": {
    "collapsed": false,
    "ExecuteTime": {
     "end_time": "2023-06-10T14:42:02.988034100Z",
     "start_time": "2023-06-10T14:42:02.961110Z"
    }
   }
  },
  {
   "cell_type": "markdown",
   "source": [],
   "metadata": {
    "collapsed": false
   }
  },
  {
   "cell_type": "code",
   "execution_count": 157,
   "outputs": [],
   "source": [
    "# One-hot encoding\n",
    "\n",
    "X = pd.get_dummies(X, columns=categorical_cols)"
   ],
   "metadata": {
    "collapsed": false,
    "ExecuteTime": {
     "end_time": "2023-06-10T14:42:03.023034200Z",
     "start_time": "2023-06-10T14:42:02.970036500Z"
    }
   }
  },
  {
   "cell_type": "code",
   "execution_count": 158,
   "outputs": [],
   "source": [
    "# Model\n",
    "\n",
    "import torch\n",
    "from torch import nn\n",
    "from torch.nn import MSELoss, L1Loss\n",
    "from torchmetrics import MeanAbsolutePercentageError\n",
    "\n",
    "\n",
    "torch.manual_seed(17)\n",
    "\n",
    "\n",
    "class NeuralNetwork(torch.nn.Module):\n",
    "\n",
    "    def __init__(self):\n",
    "        super(NeuralNetwork, self).__init__()\n",
    "        self.layers = torch.nn.Sequential(\n",
    "            torch.nn.Linear(len(X.columns), 64),\n",
    "            nn.LeakyReLU(0.1),\n",
    "            nn.Linear(64, 32),\n",
    "            nn.LeakyReLU(0.1),\n",
    "            nn.Linear(32, 1)\n",
    "        )\n",
    "\n",
    "    def forward(self, x):\n",
    "        y_pred = self.layers(x)\n",
    "        return y_pred"
   ],
   "metadata": {
    "collapsed": false,
    "ExecuteTime": {
     "end_time": "2023-06-10T14:42:03.069040400Z",
     "start_time": "2023-06-10T14:42:02.986272900Z"
    }
   }
  },
  {
   "cell_type": "code",
   "execution_count": 159,
   "outputs": [],
   "source": [
    "m_model = NeuralNetwork()\n",
    "optimizer_ln = torch.optim.Adam(m_model.parameters(), lr=0.008)\n",
    "\n",
    "# choose loss\n",
    "loss_l1 = L1Loss()\n",
    "loss_mse = MSELoss()\n",
    "loss_mape = MeanAbsolutePercentageError()\n",
    "loss = loss_mape"
   ],
   "metadata": {
    "collapsed": false,
    "ExecuteTime": {
     "end_time": "2023-06-10T14:42:03.116198300Z",
     "start_time": "2023-06-10T14:42:03.000035300Z"
    }
   }
  },
  {
   "cell_type": "code",
   "execution_count": 160,
   "outputs": [],
   "source": [
    "# model training\n",
    "\n",
    "from torch.autograd import Variable\n",
    "\n",
    "x_data_all = Variable(torch.Tensor(X.values))\n",
    "y_data_all = Variable(torch.Tensor([[target] for target in y.values]))\n",
    "\n",
    "for epoch in range(20001):\n",
    "    pred_y = m_model(x_data_all)\n",
    "    loss_ln = loss(pred_y, y_data_all)\n",
    "\n",
    "    optimizer_ln.zero_grad()\n",
    "    loss_ln.backward()\n",
    "    optimizer_ln.step()"
   ],
   "metadata": {
    "collapsed": false,
    "ExecuteTime": {
     "end_time": "2023-06-10T14:42:28.172531600Z",
     "start_time": "2023-06-10T14:42:03.023034200Z"
    }
   }
  },
  {
   "cell_type": "code",
   "execution_count": 161,
   "outputs": [],
   "source": [
    "#saving model\n",
    "\n",
    "torch.save(m_model.state_dict(), 'model')"
   ],
   "metadata": {
    "collapsed": false,
    "ExecuteTime": {
     "end_time": "2023-06-10T14:42:28.187889Z",
     "start_time": "2023-06-10T14:42:28.175435300Z"
    }
   }
  },
  {
   "cell_type": "code",
   "execution_count": 162,
   "outputs": [],
   "source": [
    "# train test and cross-validation, if needed\n",
    "\n",
    "# from sklearn.model_selection import KFold\n",
    "# from torch.autograd import Variable\n",
    "#\n",
    "#\n",
    "# kf = KFold(n_splits=10, random_state=4, shuffle=True)\n",
    "#\n",
    "# metrics_valid = []\n",
    "# metrics_all = []\n",
    "#\n",
    "# x_data_all = Variable(torch.Tensor(X.values))\n",
    "# y_data_all = Variable(torch.Tensor([[target] for target in y.values]))\n",
    "#\n",
    "# for train_ind, test_ind in kf.split(X):\n",
    "#\n",
    "#     x_data_train = Variable(torch.Tensor(X.values[train_ind]))\n",
    "#     y_data_train = Variable(torch.Tensor([[target] for target in y.values[train_ind]]))\n",
    "#\n",
    "#     x_data_valid = Variable(torch.Tensor(X.values[test_ind]))\n",
    "#     y_data_valid = Variable(torch.Tensor([[target] for target in y.values[test_ind]]))\n",
    "#\n",
    "#     m_model = NeuralNetwork()\n",
    "#\n",
    "#     optimizer_ln = torch.optim.Adam(m_model.parameters(), lr=0.008)\n",
    "#\n",
    "#     for epoch in range(8001):\n",
    "#         pred_y = m_model(x_data_train)\n",
    "#         loss_ln = loss(pred_y, y_data_train)\n",
    "#\n",
    "#         optimizer_ln.zero_grad()\n",
    "#         loss_ln.backward()\n",
    "#         optimizer_ln.step()\n",
    "#\n",
    "#\n",
    "#     m_predictions = m_model(x_data_valid)\n",
    "#     m_predictions_all = m_model(x_data_all)\n",
    "#\n",
    "#     import matplotlib.pyplot as plt\n",
    "#     fig1 = plt.figure(figsize=(12, 5))\n",
    "#     fig2 = plt.figure(figsize=(7, 6))\n",
    "#     ax1 = fig1.add_subplot(111)\n",
    "#     ax2 = fig2.add_subplot(211)\n",
    "#\n",
    "#     ax1.plot(list(i for i in range(len(y))), list(y))\n",
    "#     ax1.plot(list(i for i in range(len(y))), m_predictions_all.tolist())\n",
    "#     ax2.plot(list(i for i in range(len(y_data_valid.tolist()))), list(y_data_valid.tolist()))\n",
    "#     ax2.plot(list(i for i in range(len(y_data_valid.tolist()))), m_predictions.tolist())\n",
    "#     plt.show()\n",
    "#\n",
    "#     loss_valid = loss(m_predictions, y_data_valid)\n",
    "#     loss_all = loss(m_predictions_all, y_data_all)\n",
    "#     metrics_valid.append(loss_valid.item())\n",
    "#     metrics_all.append(loss_all.item())\n",
    "#\n",
    "#     print(loss_valid.item())\n",
    "#     print('all data:', loss_all.item())\n",
    "#\n",
    "# from statistics import mean\n",
    "#\n",
    "# print('valid data mean:', mean(metrics_valid))\n",
    "# print('all data mean:', mean(metrics_all))"
   ],
   "metadata": {
    "collapsed": false,
    "ExecuteTime": {
     "end_time": "2023-06-10T14:42:28.218711900Z",
     "start_time": "2023-06-10T14:42:28.189707700Z"
    }
   }
  },
  {
   "cell_type": "code",
   "execution_count": 162,
   "outputs": [],
   "source": [],
   "metadata": {
    "collapsed": false,
    "ExecuteTime": {
     "end_time": "2023-06-10T14:42:28.243707900Z",
     "start_time": "2023-06-10T14:42:28.205714700Z"
    }
   }
  },
  {
   "cell_type": "code",
   "execution_count": 162,
   "outputs": [],
   "source": [],
   "metadata": {
    "collapsed": false,
    "ExecuteTime": {
     "end_time": "2023-06-10T14:42:28.252020900Z",
     "start_time": "2023-06-10T14:42:28.238711200Z"
    }
   }
  },
  {
   "cell_type": "code",
   "execution_count": 162,
   "outputs": [],
   "source": [],
   "metadata": {
    "collapsed": false,
    "ExecuteTime": {
     "end_time": "2023-06-10T14:42:28.286709500Z",
     "start_time": "2023-06-10T14:42:28.253707900Z"
    }
   }
  }
 ]
}
